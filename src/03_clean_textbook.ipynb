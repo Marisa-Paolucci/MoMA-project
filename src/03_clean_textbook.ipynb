{
 "cells": [
  {
   "cell_type": "markdown",
   "metadata": {},
   "source": [
    "## Art History Textbook Cleaning Script\n",
    "This script takes in the raw art history textbook data file and performs cleaning including removing unnecessary columns, removing unnecessary rows, and filtering out missing data."
   ]
  },
  {
   "cell_type": "code",
   "execution_count": null,
   "metadata": {},
   "outputs": [
    {
     "data": {
      "text/html": [
       "<div>\n",
       "<style scoped>\n",
       "    .dataframe tbody tr th:only-of-type {\n",
       "        vertical-align: middle;\n",
       "    }\n",
       "\n",
       "    .dataframe tbody tr th {\n",
       "        vertical-align: top;\n",
       "    }\n",
       "\n",
       "    .dataframe thead th {\n",
       "        text-align: right;\n",
       "    }\n",
       "</style>\n",
       "<table border=\"1\" class=\"dataframe\">\n",
       "  <thead>\n",
       "    <tr style=\"text-align: right;\">\n",
       "      <th></th>\n",
       "      <th>artist_name</th>\n",
       "      <th>edition_number</th>\n",
       "      <th>year</th>\n",
       "      <th>artist_nationality</th>\n",
       "      <th>artist_nationality_other</th>\n",
       "      <th>artist_gender</th>\n",
       "      <th>artist_race</th>\n",
       "      <th>artist_ethnicity</th>\n",
       "      <th>book</th>\n",
       "      <th>space_ratio_per_page_total</th>\n",
       "      <th>artist_unique_id</th>\n",
       "      <th>moma_count_to_year</th>\n",
       "      <th>whitney_count_to_year</th>\n",
       "      <th>artist_race_nwi</th>\n",
       "    </tr>\n",
       "  </thead>\n",
       "  <tbody>\n",
       "    <tr>\n",
       "      <th>0</th>\n",
       "      <td>Aaron Douglas</td>\n",
       "      <td>9.0</td>\n",
       "      <td>1991</td>\n",
       "      <td>American</td>\n",
       "      <td>American</td>\n",
       "      <td>Male</td>\n",
       "      <td>Black or African American</td>\n",
       "      <td>Not Hispanic or Latino origin</td>\n",
       "      <td>Gardner</td>\n",
       "      <td>0.353366</td>\n",
       "      <td>2</td>\n",
       "      <td>0</td>\n",
       "      <td>0</td>\n",
       "      <td>Non-White</td>\n",
       "    </tr>\n",
       "    <tr>\n",
       "      <th>1</th>\n",
       "      <td>Aaron Douglas</td>\n",
       "      <td>10.0</td>\n",
       "      <td>1996</td>\n",
       "      <td>American</td>\n",
       "      <td>American</td>\n",
       "      <td>Male</td>\n",
       "      <td>Black or African American</td>\n",
       "      <td>Not Hispanic or Latino origin</td>\n",
       "      <td>Gardner</td>\n",
       "      <td>0.373947</td>\n",
       "      <td>2</td>\n",
       "      <td>0</td>\n",
       "      <td>0</td>\n",
       "      <td>Non-White</td>\n",
       "    </tr>\n",
       "    <tr>\n",
       "      <th>2</th>\n",
       "      <td>Aaron Douglas</td>\n",
       "      <td>11.0</td>\n",
       "      <td>2001</td>\n",
       "      <td>American</td>\n",
       "      <td>American</td>\n",
       "      <td>Male</td>\n",
       "      <td>Black or African American</td>\n",
       "      <td>Not Hispanic or Latino origin</td>\n",
       "      <td>Gardner</td>\n",
       "      <td>0.303259</td>\n",
       "      <td>2</td>\n",
       "      <td>0</td>\n",
       "      <td>0</td>\n",
       "      <td>Non-White</td>\n",
       "    </tr>\n",
       "    <tr>\n",
       "      <th>3</th>\n",
       "      <td>Aaron Douglas</td>\n",
       "      <td>12.0</td>\n",
       "      <td>2005</td>\n",
       "      <td>American</td>\n",
       "      <td>American</td>\n",
       "      <td>Male</td>\n",
       "      <td>Black or African American</td>\n",
       "      <td>Not Hispanic or Latino origin</td>\n",
       "      <td>Gardner</td>\n",
       "      <td>0.377049</td>\n",
       "      <td>2</td>\n",
       "      <td>0</td>\n",
       "      <td>0</td>\n",
       "      <td>Non-White</td>\n",
       "    </tr>\n",
       "    <tr>\n",
       "      <th>4</th>\n",
       "      <td>Aaron Douglas</td>\n",
       "      <td>13.0</td>\n",
       "      <td>2009</td>\n",
       "      <td>American</td>\n",
       "      <td>American</td>\n",
       "      <td>Male</td>\n",
       "      <td>Black or African American</td>\n",
       "      <td>Not Hispanic or Latino origin</td>\n",
       "      <td>Gardner</td>\n",
       "      <td>0.398410</td>\n",
       "      <td>2</td>\n",
       "      <td>0</td>\n",
       "      <td>0</td>\n",
       "      <td>Non-White</td>\n",
       "    </tr>\n",
       "  </tbody>\n",
       "</table>\n",
       "</div>"
      ],
      "text/plain": [
       "     artist_name  edition_number  year artist_nationality  \\\n",
       "0  Aaron Douglas             9.0  1991           American   \n",
       "1  Aaron Douglas            10.0  1996           American   \n",
       "2  Aaron Douglas            11.0  2001           American   \n",
       "3  Aaron Douglas            12.0  2005           American   \n",
       "4  Aaron Douglas            13.0  2009           American   \n",
       "\n",
       "  artist_nationality_other artist_gender                artist_race  \\\n",
       "0                 American          Male  Black or African American   \n",
       "1                 American          Male  Black or African American   \n",
       "2                 American          Male  Black or African American   \n",
       "3                 American          Male  Black or African American   \n",
       "4                 American          Male  Black or African American   \n",
       "\n",
       "                artist_ethnicity     book  space_ratio_per_page_total  \\\n",
       "0  Not Hispanic or Latino origin  Gardner                    0.353366   \n",
       "1  Not Hispanic or Latino origin  Gardner                    0.373947   \n",
       "2  Not Hispanic or Latino origin  Gardner                    0.303259   \n",
       "3  Not Hispanic or Latino origin  Gardner                    0.377049   \n",
       "4  Not Hispanic or Latino origin  Gardner                    0.398410   \n",
       "\n",
       "   artist_unique_id  moma_count_to_year  whitney_count_to_year artist_race_nwi  \n",
       "0                 2                   0                      0       Non-White  \n",
       "1                 2                   0                      0       Non-White  \n",
       "2                 2                   0                      0       Non-White  \n",
       "3                 2                   0                      0       Non-White  \n",
       "4                 2                   0                      0       Non-White  "
      ]
     },
     "execution_count": 1,
     "metadata": {},
     "output_type": "execute_result"
    }
   ],
   "source": [
    "import pandas as pd\n",
    "\n",
    "# Reading in the art history textbook csv and viewing the first five rows. \n",
    "df_textbook = pd.read_csv(\"../data/raw/art_history.csv\")\n",
    "df_textbook.head(5)"
   ]
  },
  {
   "cell_type": "markdown",
   "metadata": {},
   "source": [
    "I will start by removing unnecessary columns."
   ]
  },
  {
   "cell_type": "code",
   "execution_count": 2,
   "metadata": {},
   "outputs": [],
   "source": [
    "df_textbook = df_textbook.drop(columns=['edition_number','year','artist_nationality','artist_nationality_other','artist_race','artist_ethnicity','book','space_ratio_per_page_total','artist_unique_id','moma_count_to_year','whitney_count_to_year','artist_race_nwi'])"
   ]
  },
  {
   "cell_type": "code",
   "execution_count": 3,
   "metadata": {},
   "outputs": [
    {
     "data": {
      "text/html": [
       "<div>\n",
       "<style scoped>\n",
       "    .dataframe tbody tr th:only-of-type {\n",
       "        vertical-align: middle;\n",
       "    }\n",
       "\n",
       "    .dataframe tbody tr th {\n",
       "        vertical-align: top;\n",
       "    }\n",
       "\n",
       "    .dataframe thead th {\n",
       "        text-align: right;\n",
       "    }\n",
       "</style>\n",
       "<table border=\"1\" class=\"dataframe\">\n",
       "  <thead>\n",
       "    <tr style=\"text-align: right;\">\n",
       "      <th></th>\n",
       "      <th>artist_name</th>\n",
       "      <th>artist_gender</th>\n",
       "    </tr>\n",
       "  </thead>\n",
       "  <tbody>\n",
       "    <tr>\n",
       "      <th>0</th>\n",
       "      <td>Aaron Douglas</td>\n",
       "      <td>Male</td>\n",
       "    </tr>\n",
       "    <tr>\n",
       "      <th>1</th>\n",
       "      <td>Aaron Douglas</td>\n",
       "      <td>Male</td>\n",
       "    </tr>\n",
       "    <tr>\n",
       "      <th>2</th>\n",
       "      <td>Aaron Douglas</td>\n",
       "      <td>Male</td>\n",
       "    </tr>\n",
       "    <tr>\n",
       "      <th>3</th>\n",
       "      <td>Aaron Douglas</td>\n",
       "      <td>Male</td>\n",
       "    </tr>\n",
       "    <tr>\n",
       "      <th>4</th>\n",
       "      <td>Aaron Douglas</td>\n",
       "      <td>Male</td>\n",
       "    </tr>\n",
       "  </tbody>\n",
       "</table>\n",
       "</div>"
      ],
      "text/plain": [
       "     artist_name artist_gender\n",
       "0  Aaron Douglas          Male\n",
       "1  Aaron Douglas          Male\n",
       "2  Aaron Douglas          Male\n",
       "3  Aaron Douglas          Male\n",
       "4  Aaron Douglas          Male"
      ]
     },
     "execution_count": 3,
     "metadata": {},
     "output_type": "execute_result"
    }
   ],
   "source": [
    "#Viewing updated dataset with unnecessary columns removed.\n",
    "df_textbook.head(5)"
   ]
  },
  {
   "cell_type": "markdown",
   "metadata": {},
   "source": [
    "Next, I will change the artist name and gender data types from objects to strings. "
   ]
  },
  {
   "cell_type": "code",
   "execution_count": 4,
   "metadata": {},
   "outputs": [],
   "source": [
    "df_textbook.artist_name = df_textbook.artist_name.astype('string')\n",
    "df_textbook.artist_gender = df_textbook.artist_gender.astype('string')"
   ]
  },
  {
   "cell_type": "code",
   "execution_count": 5,
   "metadata": {},
   "outputs": [
    {
     "data": {
      "text/plain": [
       "artist_name      string[python]\n",
       "artist_gender    string[python]\n",
       "dtype: object"
      ]
     },
     "execution_count": 5,
     "metadata": {},
     "output_type": "execute_result"
    }
   ],
   "source": [
    "#Checking to see if data types were updated. \n",
    "df_textbook.dtypes"
   ]
  },
  {
   "cell_type": "markdown",
   "metadata": {},
   "source": [
    "Next, I will revisit the description of the data. "
   ]
  },
  {
   "cell_type": "code",
   "execution_count": 6,
   "metadata": {},
   "outputs": [
    {
     "data": {
      "text/html": [
       "<div>\n",
       "<style scoped>\n",
       "    .dataframe tbody tr th:only-of-type {\n",
       "        vertical-align: middle;\n",
       "    }\n",
       "\n",
       "    .dataframe tbody tr th {\n",
       "        vertical-align: top;\n",
       "    }\n",
       "\n",
       "    .dataframe thead th {\n",
       "        text-align: right;\n",
       "    }\n",
       "</style>\n",
       "<table border=\"1\" class=\"dataframe\">\n",
       "  <thead>\n",
       "    <tr style=\"text-align: right;\">\n",
       "      <th></th>\n",
       "      <th>artist_name</th>\n",
       "      <th>artist_gender</th>\n",
       "    </tr>\n",
       "  </thead>\n",
       "  <tbody>\n",
       "    <tr>\n",
       "      <th>count</th>\n",
       "      <td>3162</td>\n",
       "      <td>3104</td>\n",
       "    </tr>\n",
       "    <tr>\n",
       "      <th>unique</th>\n",
       "      <td>413</td>\n",
       "      <td>2</td>\n",
       "    </tr>\n",
       "    <tr>\n",
       "      <th>top</th>\n",
       "      <td>Joseph Mallord William Turner</td>\n",
       "      <td>Male</td>\n",
       "    </tr>\n",
       "    <tr>\n",
       "      <th>freq</th>\n",
       "      <td>25</td>\n",
       "      <td>2762</td>\n",
       "    </tr>\n",
       "  </tbody>\n",
       "</table>\n",
       "</div>"
      ],
      "text/plain": [
       "                          artist_name artist_gender\n",
       "count                            3162          3104\n",
       "unique                            413             2\n",
       "top     Joseph Mallord William Turner          Male\n",
       "freq                               25          2762"
      ]
     },
     "execution_count": 6,
     "metadata": {},
     "output_type": "execute_result"
    }
   ],
   "source": [
    "df_textbook.describe()"
   ]
  },
  {
   "cell_type": "markdown",
   "metadata": {},
   "source": [
    "Next, we will look for missing data. "
   ]
  },
  {
   "cell_type": "code",
   "execution_count": 7,
   "metadata": {},
   "outputs": [
    {
     "data": {
      "text/plain": [
       "artist_name       0\n",
       "artist_gender    58\n",
       "dtype: int64"
      ]
     },
     "execution_count": 7,
     "metadata": {},
     "output_type": "execute_result"
    }
   ],
   "source": [
    "df_textbook.isnull().sum()"
   ]
  },
  {
   "cell_type": "markdown",
   "metadata": {},
   "source": [
    "As noted in our discovery portion, the 58 \"nan\" genders are listed for artists with names listed as \"N/A\". Considering that we need the artists' name and gender for this analysis, these records will not be included. I will remove these rows now. "
   ]
  },
  {
   "cell_type": "code",
   "execution_count": 8,
   "metadata": {},
   "outputs": [],
   "source": [
    "df_textbook.dropna(inplace=True)"
   ]
  },
  {
   "cell_type": "code",
   "execution_count": 9,
   "metadata": {},
   "outputs": [
    {
     "data": {
      "text/plain": [
       "artist_name      0\n",
       "artist_gender    0\n",
       "dtype: int64"
      ]
     },
     "execution_count": 9,
     "metadata": {},
     "output_type": "execute_result"
    }
   ],
   "source": [
    "#Checking to see if rows with empty fields were dropped. \n",
    "df_textbook.isnull().sum()"
   ]
  },
  {
   "cell_type": "code",
   "execution_count": 10,
   "metadata": {},
   "outputs": [],
   "source": [
    "#Writing csv to clean data folder.\n",
    "df_textbook.to_csv('../data/clean/clean_art_history.csv', index=False)"
   ]
  }
 ],
 "metadata": {
  "kernelspec": {
   "display_name": "venv",
   "language": "python",
   "name": "python3"
  },
  "language_info": {
   "codemirror_mode": {
    "name": "ipython",
    "version": 3
   },
   "file_extension": ".py",
   "mimetype": "text/x-python",
   "name": "python",
   "nbconvert_exporter": "python",
   "pygments_lexer": "ipython3",
   "version": "3.12.3"
  }
 },
 "nbformat": 4,
 "nbformat_minor": 2
}
